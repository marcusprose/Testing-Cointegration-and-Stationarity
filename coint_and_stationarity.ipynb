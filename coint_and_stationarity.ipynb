{
 "cells": [
  {
   "cell_type": "markdown",
   "id": "c65f813e",
   "metadata": {},
   "source": [
    "# Testing for Cointegration and Stationarity"
   ]
  },
  {
   "cell_type": "code",
   "execution_count": 743,
   "id": "3e2c80eb",
   "metadata": {},
   "outputs": [],
   "source": [
    "# API to be used\n",
    "import yfinance as yf\n",
    "# principal data manipulation tools\n",
    "import numpy as np \n",
    "import pandas as pd\n",
    "import matplotlib as plt\n",
    "\n",
    "# data visualization\n",
    "import seaborn as sns\n",
    "\n",
    "# math\n",
    "import statsmodels.api as sm\n",
    "from statsmodels.regression.linear_model import OLS # least squares\n",
    "from statsmodels.tsa.stattools import adfuller # augmented dicky fuller test\n",
    "from statsmodels.tsa.stattools import coint # cointegration (not corrrelation)\n",
    "from sklearn.model_selection import train_test_split\n",
    "import datetime\n",
    "\n",
    "# GUI\n",
    "from ipywidgets import widgets, interact\n",
    "from IPython.display import display\n",
    "\n",
    "# local imports\n",
    "# %run dictionary.ipynb"
   ]
  },
  {
   "cell_type": "markdown",
   "id": "816d1062",
   "metadata": {},
   "source": [
    "### Add securities below one at a time"
   ]
  },
  {
   "cell_type": "code",
   "execution_count": 379,
   "id": "9c8e9c18",
   "metadata": {},
   "outputs": [
    {
     "data": {
      "application/vnd.jupyter.widget-view+json": {
       "model_id": "b2b187aa79cd45f5bc60ee957c80638a",
       "version_major": 2,
       "version_minor": 0
      },
      "text/plain": [
       "Text(value='', description='Ticker name:', placeholder='Type a valid Ticker')"
      ]
     },
     "metadata": {},
     "output_type": "display_data"
    }
   ],
   "source": [
    "ticker_list = []\n",
    "\n",
    "add_ticker = widgets.Text(\n",
    "    value = '',\n",
    "    placeholder = 'Type a valid Ticker',\n",
    "    description = 'Ticker name:',\n",
    ")\n",
    "\n",
    "display(add_ticker)\n",
    "\n",
    "\n",
    "def callback(widget):\n",
    "    ticker_list.append(widget.value) \n",
    "    \n",
    "add_ticker.on_submit(callback)\n",
    "\n",
    "# TODO: functionality for multiple \n",
    "def multiple_securities():\n",
    "    return"
   ]
  },
  {
   "cell_type": "code",
   "execution_count": 744,
   "id": "ba68a883",
   "metadata": {
    "scrolled": false
   },
   "outputs": [
    {
     "name": "stdout",
     "output_type": "stream",
     "text": [
      "['AAPL', 'MSFT', 'FB', 'BOX', 'U', 'CRM', 'TWTR', 'SNAP', 'AMD', 'SQ', 'ABNB', 'PLTR', 'TSLA', 'AMZN', 'ROKU', 'NVDA', 'GOOG', 'NFLX', 'UBER', 'LYFT']\n",
      "\n",
      "20\n"
     ]
    }
   ],
   "source": [
    "# sample list\n",
    "print(ticker_list)\n",
    "print()\n",
    "print(len(ticker_list))"
   ]
  },
  {
   "cell_type": "code",
   "execution_count": 745,
   "id": "5758a0bf",
   "metadata": {},
   "outputs": [
    {
     "data": {
      "text/plain": [
       "43.58000183105469"
      ]
     },
     "execution_count": 745,
     "metadata": {},
     "output_type": "execute_result"
    }
   ],
   "source": [
    "# scratch\n",
    "ticker = yf.Ticker(ticker_list[i])\n",
    "hist = ticker.history(start = '2020-01-01', end = today)\n",
    "hist = hist['Close']\n",
    "hist[0]"
   ]
  },
  {
   "cell_type": "markdown",
   "id": "f5cceac7",
   "metadata": {},
   "source": [
    "### DataFrame set up"
   ]
  },
  {
   "cell_type": "code",
   "execution_count": 746,
   "id": "84bcfd18",
   "metadata": {},
   "outputs": [],
   "source": [
    "my_dict = {}\n",
    "\n",
    "# create a dictionary with all of the tickers as keys and all of the values in the form [Date, Close]\n",
    "for i in range(len(ticker_list)):\n",
    "    ticker = yf.Ticker(ticker_list[i])\n",
    "#     about two years of data\n",
    "    hist = ticker.history(start = '2020-01-01', end = today)\n",
    "#     iterate over the hist data\n",
    "    for j in range(len(hist)):\n",
    "        my_dict[ticker_list[i]] = hist['Close']\n",
    "\n",
    "    \n"
   ]
  },
  {
   "cell_type": "code",
   "execution_count": 747,
   "id": "4023ff35",
   "metadata": {},
   "outputs": [
    {
     "data": {
      "text/html": [
       "<div>\n",
       "<style scoped>\n",
       "    .dataframe tbody tr th:only-of-type {\n",
       "        vertical-align: middle;\n",
       "    }\n",
       "\n",
       "    .dataframe tbody tr th {\n",
       "        vertical-align: top;\n",
       "    }\n",
       "\n",
       "    .dataframe thead th {\n",
       "        text-align: right;\n",
       "    }\n",
       "</style>\n",
       "<table border=\"1\" class=\"dataframe\">\n",
       "  <thead>\n",
       "    <tr style=\"text-align: right;\">\n",
       "      <th></th>\n",
       "      <th>AAPL</th>\n",
       "      <th>MSFT</th>\n",
       "      <th>FB</th>\n",
       "      <th>BOX</th>\n",
       "      <th>U</th>\n",
       "      <th>CRM</th>\n",
       "      <th>TWTR</th>\n",
       "      <th>SNAP</th>\n",
       "      <th>AMD</th>\n",
       "      <th>SQ</th>\n",
       "      <th>ABNB</th>\n",
       "      <th>PLTR</th>\n",
       "      <th>TSLA</th>\n",
       "      <th>AMZN</th>\n",
       "      <th>ROKU</th>\n",
       "      <th>NVDA</th>\n",
       "      <th>GOOG</th>\n",
       "      <th>NFLX</th>\n",
       "      <th>UBER</th>\n",
       "      <th>LYFT</th>\n",
       "    </tr>\n",
       "    <tr>\n",
       "      <th>Date</th>\n",
       "      <th></th>\n",
       "      <th></th>\n",
       "      <th></th>\n",
       "      <th></th>\n",
       "      <th></th>\n",
       "      <th></th>\n",
       "      <th></th>\n",
       "      <th></th>\n",
       "      <th></th>\n",
       "      <th></th>\n",
       "      <th></th>\n",
       "      <th></th>\n",
       "      <th></th>\n",
       "      <th></th>\n",
       "      <th></th>\n",
       "      <th></th>\n",
       "      <th></th>\n",
       "      <th></th>\n",
       "      <th></th>\n",
       "      <th></th>\n",
       "    </tr>\n",
       "  </thead>\n",
       "  <tbody>\n",
       "    <tr>\n",
       "      <th>2020-01-02</th>\n",
       "      <td>73.988480</td>\n",
       "      <td>157.615112</td>\n",
       "      <td>209.779999</td>\n",
       "      <td>17.240000</td>\n",
       "      <td>NaN</td>\n",
       "      <td>166.990005</td>\n",
       "      <td>32.299999</td>\n",
       "      <td>16.780001</td>\n",
       "      <td>49.099998</td>\n",
       "      <td>63.830002</td>\n",
       "      <td>NaN</td>\n",
       "      <td>NaN</td>\n",
       "      <td>86.052002</td>\n",
       "      <td>1898.010010</td>\n",
       "      <td>137.100006</td>\n",
       "      <td>59.826447</td>\n",
       "      <td>1367.369995</td>\n",
       "      <td>329.809998</td>\n",
       "      <td>30.990000</td>\n",
       "      <td>43.580002</td>\n",
       "    </tr>\n",
       "    <tr>\n",
       "      <th>2020-01-03</th>\n",
       "      <td>73.269150</td>\n",
       "      <td>155.652512</td>\n",
       "      <td>208.669998</td>\n",
       "      <td>16.940001</td>\n",
       "      <td>NaN</td>\n",
       "      <td>166.169998</td>\n",
       "      <td>31.520000</td>\n",
       "      <td>16.750000</td>\n",
       "      <td>48.599998</td>\n",
       "      <td>63.000000</td>\n",
       "      <td>NaN</td>\n",
       "      <td>NaN</td>\n",
       "      <td>88.601997</td>\n",
       "      <td>1874.969971</td>\n",
       "      <td>137.509995</td>\n",
       "      <td>58.868862</td>\n",
       "      <td>1360.660034</td>\n",
       "      <td>325.899994</td>\n",
       "      <td>31.370001</td>\n",
       "      <td>43.189999</td>\n",
       "    </tr>\n",
       "    <tr>\n",
       "      <th>2020-01-06</th>\n",
       "      <td>73.852982</td>\n",
       "      <td>156.054855</td>\n",
       "      <td>212.600006</td>\n",
       "      <td>17.320000</td>\n",
       "      <td>NaN</td>\n",
       "      <td>173.449997</td>\n",
       "      <td>31.639999</td>\n",
       "      <td>16.780001</td>\n",
       "      <td>48.389999</td>\n",
       "      <td>62.570000</td>\n",
       "      <td>NaN</td>\n",
       "      <td>NaN</td>\n",
       "      <td>90.307999</td>\n",
       "      <td>1902.880005</td>\n",
       "      <td>143.369995</td>\n",
       "      <td>59.115734</td>\n",
       "      <td>1394.209961</td>\n",
       "      <td>335.829987</td>\n",
       "      <td>31.580000</td>\n",
       "      <td>43.099998</td>\n",
       "    </tr>\n",
       "    <tr>\n",
       "      <th>2020-01-07</th>\n",
       "      <td>73.505646</td>\n",
       "      <td>154.631989</td>\n",
       "      <td>213.059998</td>\n",
       "      <td>16.969999</td>\n",
       "      <td>NaN</td>\n",
       "      <td>176.000000</td>\n",
       "      <td>32.540001</td>\n",
       "      <td>17.030001</td>\n",
       "      <td>48.250000</td>\n",
       "      <td>64.589996</td>\n",
       "      <td>NaN</td>\n",
       "      <td>NaN</td>\n",
       "      <td>93.811996</td>\n",
       "      <td>1906.859985</td>\n",
       "      <td>138.190002</td>\n",
       "      <td>59.831425</td>\n",
       "      <td>1393.339966</td>\n",
       "      <td>330.750000</td>\n",
       "      <td>32.810001</td>\n",
       "      <td>44.250000</td>\n",
       "    </tr>\n",
       "    <tr>\n",
       "      <th>2020-01-08</th>\n",
       "      <td>74.688080</td>\n",
       "      <td>157.095032</td>\n",
       "      <td>215.220001</td>\n",
       "      <td>16.860001</td>\n",
       "      <td>NaN</td>\n",
       "      <td>177.330002</td>\n",
       "      <td>33.049999</td>\n",
       "      <td>16.670000</td>\n",
       "      <td>47.830002</td>\n",
       "      <td>67.599998</td>\n",
       "      <td>NaN</td>\n",
       "      <td>NaN</td>\n",
       "      <td>98.428001</td>\n",
       "      <td>1891.969971</td>\n",
       "      <td>134.639999</td>\n",
       "      <td>59.943645</td>\n",
       "      <td>1404.319946</td>\n",
       "      <td>339.260010</td>\n",
       "      <td>33.930000</td>\n",
       "      <td>45.080002</td>\n",
       "    </tr>\n",
       "    <tr>\n",
       "      <th>...</th>\n",
       "      <td>...</td>\n",
       "      <td>...</td>\n",
       "      <td>...</td>\n",
       "      <td>...</td>\n",
       "      <td>...</td>\n",
       "      <td>...</td>\n",
       "      <td>...</td>\n",
       "      <td>...</td>\n",
       "      <td>...</td>\n",
       "      <td>...</td>\n",
       "      <td>...</td>\n",
       "      <td>...</td>\n",
       "      <td>...</td>\n",
       "      <td>...</td>\n",
       "      <td>...</td>\n",
       "      <td>...</td>\n",
       "      <td>...</td>\n",
       "      <td>...</td>\n",
       "      <td>...</td>\n",
       "      <td>...</td>\n",
       "    </tr>\n",
       "    <tr>\n",
       "      <th>2021-12-16</th>\n",
       "      <td>172.259995</td>\n",
       "      <td>324.899994</td>\n",
       "      <td>334.899994</td>\n",
       "      <td>25.629999</td>\n",
       "      <td>133.740005</td>\n",
       "      <td>253.119995</td>\n",
       "      <td>43.130001</td>\n",
       "      <td>44.700001</td>\n",
       "      <td>138.639999</td>\n",
       "      <td>165.880005</td>\n",
       "      <td>156.380005</td>\n",
       "      <td>18.340000</td>\n",
       "      <td>926.919983</td>\n",
       "      <td>3377.419922</td>\n",
       "      <td>219.009995</td>\n",
       "      <td>283.869995</td>\n",
       "      <td>2896.770020</td>\n",
       "      <td>591.059998</td>\n",
       "      <td>37.700001</td>\n",
       "      <td>37.459999</td>\n",
       "    </tr>\n",
       "    <tr>\n",
       "      <th>2021-12-17</th>\n",
       "      <td>171.139999</td>\n",
       "      <td>323.799988</td>\n",
       "      <td>333.790009</td>\n",
       "      <td>26.219999</td>\n",
       "      <td>138.410004</td>\n",
       "      <td>252.929993</td>\n",
       "      <td>43.070000</td>\n",
       "      <td>45.290001</td>\n",
       "      <td>137.750000</td>\n",
       "      <td>167.059998</td>\n",
       "      <td>157.910004</td>\n",
       "      <td>19.059999</td>\n",
       "      <td>932.570007</td>\n",
       "      <td>3400.350098</td>\n",
       "      <td>236.460007</td>\n",
       "      <td>278.010010</td>\n",
       "      <td>2856.060059</td>\n",
       "      <td>586.729980</td>\n",
       "      <td>39.680000</td>\n",
       "      <td>38.070000</td>\n",
       "    </tr>\n",
       "    <tr>\n",
       "      <th>2021-12-20</th>\n",
       "      <td>169.750000</td>\n",
       "      <td>319.910004</td>\n",
       "      <td>325.450012</td>\n",
       "      <td>25.930000</td>\n",
       "      <td>137.289993</td>\n",
       "      <td>247.210007</td>\n",
       "      <td>42.980000</td>\n",
       "      <td>44.419998</td>\n",
       "      <td>135.800003</td>\n",
       "      <td>158.300003</td>\n",
       "      <td>157.229996</td>\n",
       "      <td>17.959999</td>\n",
       "      <td>899.940002</td>\n",
       "      <td>3341.580078</td>\n",
       "      <td>228.059998</td>\n",
       "      <td>277.190002</td>\n",
       "      <td>2848.030029</td>\n",
       "      <td>593.739990</td>\n",
       "      <td>39.700001</td>\n",
       "      <td>38.619999</td>\n",
       "    </tr>\n",
       "    <tr>\n",
       "      <th>2021-12-21</th>\n",
       "      <td>172.990005</td>\n",
       "      <td>327.290009</td>\n",
       "      <td>334.200012</td>\n",
       "      <td>26.000000</td>\n",
       "      <td>145.839996</td>\n",
       "      <td>252.550003</td>\n",
       "      <td>44.360001</td>\n",
       "      <td>46.099998</td>\n",
       "      <td>144.250000</td>\n",
       "      <td>170.470001</td>\n",
       "      <td>165.660004</td>\n",
       "      <td>18.900000</td>\n",
       "      <td>938.530029</td>\n",
       "      <td>3408.340088</td>\n",
       "      <td>231.770004</td>\n",
       "      <td>290.750000</td>\n",
       "      <td>2884.409912</td>\n",
       "      <td>604.919983</td>\n",
       "      <td>41.970001</td>\n",
       "      <td>40.910000</td>\n",
       "    </tr>\n",
       "    <tr>\n",
       "      <th>2021-12-22</th>\n",
       "      <td>175.639999</td>\n",
       "      <td>333.200012</td>\n",
       "      <td>330.450012</td>\n",
       "      <td>26.200001</td>\n",
       "      <td>144.889999</td>\n",
       "      <td>252.800003</td>\n",
       "      <td>43.900002</td>\n",
       "      <td>46.770000</td>\n",
       "      <td>143.880005</td>\n",
       "      <td>167.380005</td>\n",
       "      <td>169.289993</td>\n",
       "      <td>18.879999</td>\n",
       "      <td>1008.869995</td>\n",
       "      <td>3420.739990</td>\n",
       "      <td>226.699997</td>\n",
       "      <td>294.000000</td>\n",
       "      <td>2938.979980</td>\n",
       "      <td>614.239990</td>\n",
       "      <td>43.020000</td>\n",
       "      <td>42.459999</td>\n",
       "    </tr>\n",
       "  </tbody>\n",
       "</table>\n",
       "<p>499 rows × 20 columns</p>\n",
       "</div>"
      ],
      "text/plain": [
       "                  AAPL        MSFT          FB        BOX           U  \\\n",
       "Date                                                                    \n",
       "2020-01-02   73.988480  157.615112  209.779999  17.240000         NaN   \n",
       "2020-01-03   73.269150  155.652512  208.669998  16.940001         NaN   \n",
       "2020-01-06   73.852982  156.054855  212.600006  17.320000         NaN   \n",
       "2020-01-07   73.505646  154.631989  213.059998  16.969999         NaN   \n",
       "2020-01-08   74.688080  157.095032  215.220001  16.860001         NaN   \n",
       "...                ...         ...         ...        ...         ...   \n",
       "2021-12-16  172.259995  324.899994  334.899994  25.629999  133.740005   \n",
       "2021-12-17  171.139999  323.799988  333.790009  26.219999  138.410004   \n",
       "2021-12-20  169.750000  319.910004  325.450012  25.930000  137.289993   \n",
       "2021-12-21  172.990005  327.290009  334.200012  26.000000  145.839996   \n",
       "2021-12-22  175.639999  333.200012  330.450012  26.200001  144.889999   \n",
       "\n",
       "                   CRM       TWTR       SNAP         AMD          SQ  \\\n",
       "Date                                                                   \n",
       "2020-01-02  166.990005  32.299999  16.780001   49.099998   63.830002   \n",
       "2020-01-03  166.169998  31.520000  16.750000   48.599998   63.000000   \n",
       "2020-01-06  173.449997  31.639999  16.780001   48.389999   62.570000   \n",
       "2020-01-07  176.000000  32.540001  17.030001   48.250000   64.589996   \n",
       "2020-01-08  177.330002  33.049999  16.670000   47.830002   67.599998   \n",
       "...                ...        ...        ...         ...         ...   \n",
       "2021-12-16  253.119995  43.130001  44.700001  138.639999  165.880005   \n",
       "2021-12-17  252.929993  43.070000  45.290001  137.750000  167.059998   \n",
       "2021-12-20  247.210007  42.980000  44.419998  135.800003  158.300003   \n",
       "2021-12-21  252.550003  44.360001  46.099998  144.250000  170.470001   \n",
       "2021-12-22  252.800003  43.900002  46.770000  143.880005  167.380005   \n",
       "\n",
       "                  ABNB       PLTR         TSLA         AMZN        ROKU  \\\n",
       "Date                                                                      \n",
       "2020-01-02         NaN        NaN    86.052002  1898.010010  137.100006   \n",
       "2020-01-03         NaN        NaN    88.601997  1874.969971  137.509995   \n",
       "2020-01-06         NaN        NaN    90.307999  1902.880005  143.369995   \n",
       "2020-01-07         NaN        NaN    93.811996  1906.859985  138.190002   \n",
       "2020-01-08         NaN        NaN    98.428001  1891.969971  134.639999   \n",
       "...                ...        ...          ...          ...         ...   \n",
       "2021-12-16  156.380005  18.340000   926.919983  3377.419922  219.009995   \n",
       "2021-12-17  157.910004  19.059999   932.570007  3400.350098  236.460007   \n",
       "2021-12-20  157.229996  17.959999   899.940002  3341.580078  228.059998   \n",
       "2021-12-21  165.660004  18.900000   938.530029  3408.340088  231.770004   \n",
       "2021-12-22  169.289993  18.879999  1008.869995  3420.739990  226.699997   \n",
       "\n",
       "                  NVDA         GOOG        NFLX       UBER       LYFT  \n",
       "Date                                                                   \n",
       "2020-01-02   59.826447  1367.369995  329.809998  30.990000  43.580002  \n",
       "2020-01-03   58.868862  1360.660034  325.899994  31.370001  43.189999  \n",
       "2020-01-06   59.115734  1394.209961  335.829987  31.580000  43.099998  \n",
       "2020-01-07   59.831425  1393.339966  330.750000  32.810001  44.250000  \n",
       "2020-01-08   59.943645  1404.319946  339.260010  33.930000  45.080002  \n",
       "...                ...          ...         ...        ...        ...  \n",
       "2021-12-16  283.869995  2896.770020  591.059998  37.700001  37.459999  \n",
       "2021-12-17  278.010010  2856.060059  586.729980  39.680000  38.070000  \n",
       "2021-12-20  277.190002  2848.030029  593.739990  39.700001  38.619999  \n",
       "2021-12-21  290.750000  2884.409912  604.919983  41.970001  40.910000  \n",
       "2021-12-22  294.000000  2938.979980  614.239990  43.020000  42.459999  \n",
       "\n",
       "[499 rows x 20 columns]"
      ]
     },
     "execution_count": 747,
     "metadata": {},
     "output_type": "execute_result"
    }
   ],
   "source": [
    "df = pd.DataFrame(my_dict, index = hist['Close'].index)\n",
    "# populate each column\n",
    "# for i in range(len(hist['Close'])):\n",
    "#     df[hist['Close'].index[i]][ticker_list[i]] = hist['Close'][i]\n",
    "\n",
    "df\n",
    "\n",
    "\n",
    "# df.from_dict(my_dict)\n",
    "# s = pd.Series\n",
    "# s.to_dict(hist['Close'])"
   ]
  },
  {
   "cell_type": "code",
   "execution_count": 739,
   "id": "defea805",
   "metadata": {},
   "outputs": [],
   "source": [
    "# Everything from here below is from https://towardsdatascience.com/bring-your-jupyter-notebook-to-life-with-interactive-widgets-bc12e03f0916 "
   ]
  },
  {
   "cell_type": "code",
   "execution_count": 742,
   "id": "56388914",
   "metadata": {},
   "outputs": [
    {
     "data": {
      "application/vnd.jupyter.widget-view+json": {
       "model_id": "80fe7f9944fd41cc81bf2c8cc9e67f9c",
       "version_major": 2,
       "version_minor": 0
      },
      "text/plain": [
       "IntSlider(value=0)"
      ]
     },
     "metadata": {},
     "output_type": "display_data"
    }
   ],
   "source": [
    "# using widgets\n",
    "\n",
    "widgets.IntSlider(\n",
    "    min = 0,\n",
    "    max = len(ticker_dict) - 1,\n",
    "    step = 1,\n",
    "    description = 'Slider:',\n",
    "    value = 0\n",
    ")\n",
    "\n",
    "slider = widgets.IntSlider()\n",
    "display(slider)"
   ]
  },
  {
   "cell_type": "code",
   "execution_count": 741,
   "id": "3960342c",
   "metadata": {},
   "outputs": [
    {
     "data": {
      "application/vnd.jupyter.widget-view+json": {
       "model_id": "d8031fdf874642f59635b3f9dbde36dd",
       "version_major": 2,
       "version_minor": 0
      },
      "text/plain": [
       "IntSlider(value=0)"
      ]
     },
     "metadata": {},
     "output_type": "display_data"
    },
    {
     "data": {
      "application/vnd.jupyter.widget-view+json": {
       "model_id": "1a616cfab2624ae8a809bdfd44e4be1e",
       "version_major": 2,
       "version_minor": 0
      },
      "text/plain": [
       "IntText(value=0)"
      ]
     },
     "metadata": {},
     "output_type": "display_data"
    },
    {
     "data": {
      "text/plain": [
       "Link(source=(IntSlider(value=0), 'value'), target=(IntText(value=0), 'value'))"
      ]
     },
     "metadata": {},
     "output_type": "display_data"
    }
   ],
   "source": [
    "# linking two widgets\n",
    "slider = widgets.IntSlider()\n",
    "text = widgets.IntText()\n",
    "display(slider, text)\n",
    "widgets.jslink((slider, 'value'), (text, 'value'))"
   ]
  },
  {
   "cell_type": "code",
   "execution_count": 141,
   "id": "44352338",
   "metadata": {
    "scrolled": true
   },
   "outputs": [
    {
     "name": "stdout",
     "output_type": "stream",
     "text": [
      "['Accordion', 'AppLayout', 'Audio', 'BoundedFloatText', 'BoundedIntText', 'Box', 'Button', 'ButtonStyle', 'CallbackDispatcher', 'Checkbox', 'Color', 'ColorPicker', 'Combobox', 'Controller', 'CoreWidget', 'DOMWidget', 'DatePicker', 'Datetime', 'Dropdown', 'FileUpload', 'FloatLogSlider', 'FloatProgress', 'FloatRangeSlider', 'FloatSlider', 'FloatText', 'GridBox', 'GridspecLayout', 'HBox', 'HTML', 'HTMLMath', 'Image', 'IntProgress', 'IntRangeSlider', 'IntSlider', 'IntText', 'Label', 'Layout', 'NumberFormat', 'Output', 'Password', 'Play', 'RadioButtons', 'Select', 'SelectMultiple', 'SelectionRangeSlider', 'SelectionSlider', 'SliderStyle', 'Style', 'Tab', 'Text', 'Textarea', 'ToggleButton', 'ToggleButtons', 'ToggleButtonsStyle', 'TwoByTwoLayout', 'VBox', 'Valid', 'ValueWidget', 'Video', 'Widget', '__builtins__', '__cached__', '__doc__', '__file__', '__jupyter_widgets_base_version__', '__jupyter_widgets_controls_version__', '__loader__', '__name__', '__package__', '__path__', '__protocol_version__', '__spec__', '__version__', '_handle_ipython', '_version', 'dlink', 'docutils', 'domwidget', 'fixed', 'get_ipython', 'handle_kernel', 'interact', 'interact_manual', 'interaction', 'interactive', 'interactive_output', 'jsdlink', 'jslink', 'link', 'load_ipython_extension', 'os', 'register', 'register_comm_target', 'trait_types', 'util', 'valuewidget', 'version_info', 'widget', 'widget_bool', 'widget_box', 'widget_button', 'widget_color', 'widget_controller', 'widget_core', 'widget_date', 'widget_description', 'widget_float', 'widget_int', 'widget_layout', 'widget_link', 'widget_media', 'widget_output', 'widget_selection', 'widget_selectioncontainer', 'widget_serialization', 'widget_string', 'widget_style', 'widget_templates', 'widget_upload', 'widgets']\n"
     ]
    }
   ],
   "source": [
    "print(dir(widgets))"
   ]
  },
  {
   "cell_type": "code",
   "execution_count": 740,
   "id": "2fea960a",
   "metadata": {},
   "outputs": [
    {
     "data": {
      "application/vnd.jupyter.widget-view+json": {
       "model_id": "1e4f100dbb6e4453a834bf93ae12957a",
       "version_major": 2,
       "version_minor": 0
      },
      "text/plain": [
       "Button(description='Medium', style=ButtonStyle())"
      ]
     },
     "metadata": {},
     "output_type": "display_data"
    },
    {
     "name": "stdout",
     "output_type": "stream",
     "text": [
      "AAPL\n"
     ]
    }
   ],
   "source": [
    "# widget events\n",
    "btn = widgets.Button(description='Medium')\n",
    "display(btn)\n",
    "def btn_eventhandler(obj):\n",
    "    print(ticker_dict[0].format(obj.description))\n",
    "btn.on_click(btn_eventhandler)"
   ]
  }
 ],
 "metadata": {
  "kernelspec": {
   "display_name": "Python 3",
   "language": "python",
   "name": "python3"
  },
  "language_info": {
   "codemirror_mode": {
    "name": "ipython",
    "version": 3
   },
   "file_extension": ".py",
   "mimetype": "text/x-python",
   "name": "python",
   "nbconvert_exporter": "python",
   "pygments_lexer": "ipython3",
   "version": "3.9.1"
  }
 },
 "nbformat": 4,
 "nbformat_minor": 5
}
